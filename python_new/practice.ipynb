{
 "cells": [
  {
   "cell_type": "markdown",
   "metadata": {},
   "source": [
    "### New methodology"
   ]
  },
  {
   "cell_type": "code",
   "execution_count": 1,
   "metadata": {},
   "outputs": [
    {
     "name": "stdout",
     "output_type": "stream",
     "text": [
      "Path: [(0, 0), (1, 0), (2, 0), (2, 1), (2, 2), (3, 2), (3, 3), (3, 4), (4, 4)]\n"
     ]
    }
   ],
   "source": [
    "class Node:\n",
    "    def __init__(self, position, parent=None):\n",
    "        self.position = position\n",
    "        self.parent = parent\n",
    "        self.g = 0  # Distance from start node\n",
    "        self.h = 0  # Heuristic (estimated distance to goal)\n",
    "        self.f = 0  # Total cost\n",
    "\n",
    "    def __eq__(self, other):\n",
    "        return self.position == other.position\n",
    "\n",
    "def a_star_search(grid, start, end):\n",
    "    \"\"\"\n",
    "    Perform A* search to find the shortest path from start to end.\n",
    "\n",
    "    :param grid: 2D list representing the grid (0 = walkable, 1 = obstacle)\n",
    "    :param start: Tuple (x, y) for the start position\n",
    "    :param end: Tuple (x, y) for the goal position\n",
    "    :return: List of tuples representing the path from start to end\n",
    "    \"\"\"\n",
    "    start_node = Node(start)\n",
    "    end_node = Node(end)\n",
    "\n",
    "    open_list = []  # Nodes to be evaluated\n",
    "    closed_list = []  # Nodes already evaluated\n",
    "\n",
    "    open_list.append(start_node)\n",
    "\n",
    "    while open_list:\n",
    "        # Get the node with the lowest f cost\n",
    "        current_node = min(open_list, key=lambda node: node.f)\n",
    "        open_list.remove(current_node)\n",
    "        closed_list.append(current_node)\n",
    "\n",
    "        # Check if we've reached the goal\n",
    "        if current_node == end_node:\n",
    "            path = []\n",
    "            while current_node:\n",
    "                path.append(current_node.position)\n",
    "                current_node = current_node.parent\n",
    "            return path[::-1]  # Return reversed path\n",
    "\n",
    "        # Generate children\n",
    "        neighbors = [(0, -1), (0, 1), (-1, 0), (1, 0)]  # Up, Down, Left, Right\n",
    "        for dx, dy in neighbors:\n",
    "            neighbor_pos = (current_node.position[0] + dx, current_node.position[1] + dy)\n",
    "\n",
    "            # Check if within bounds\n",
    "            if neighbor_pos[0] < 0 or neighbor_pos[0] >= len(grid) or neighbor_pos[1] < 0 or neighbor_pos[1] >= len(grid[0]):\n",
    "                continue\n",
    "\n",
    "            # Check if walkable\n",
    "            if grid[neighbor_pos[0]][neighbor_pos[1]] != 0:\n",
    "                continue\n",
    "\n",
    "            neighbor_node = Node(neighbor_pos, current_node)\n",
    "\n",
    "            # If the neighbor is in the closed list, skip it\n",
    "            if neighbor_node in closed_list:\n",
    "                continue\n",
    "\n",
    "            # Calculate the costs\n",
    "            neighbor_node.g = current_node.g + 1\n",
    "            neighbor_node.h = abs(neighbor_pos[0] - end_node.position[0]) + abs(neighbor_pos[1] - end_node.position[1])\n",
    "            neighbor_node.f = neighbor_node.g + neighbor_node.h\n",
    "\n",
    "            # If the neighbor is in the open list with a higher cost, skip it\n",
    "            if any(open_node for open_node in open_list if open_node == neighbor_node and neighbor_node.g >= open_node.g):\n",
    "                continue\n",
    "\n",
    "            # Otherwise, add it to the open list\n",
    "            open_list.append(neighbor_node)\n",
    "\n",
    "    return None  # No path found\n",
    "\n",
    "# Example usage\n",
    "grid = [\n",
    "    [0, 1, 0, 0, 0],\n",
    "    [0, 1, 0, 1, 0],\n",
    "    [0, 0, 0, 1, 0],\n",
    "    [1, 1, 0, 0, 0],\n",
    "    [0, 0, 0, 1, 0]\n",
    "]\n",
    "start = (0, 0)\n",
    "end = (4, 4)\n",
    "\n",
    "path = a_star_search(grid, start, end)\n",
    "print(\"Path:\", path)\n"
   ]
  }
 ],
 "metadata": {
  "kernelspec": {
   "display_name": "Python 3",
   "language": "python",
   "name": "python3"
  },
  "language_info": {
   "codemirror_mode": {
    "name": "ipython",
    "version": 3
   },
   "file_extension": ".py",
   "mimetype": "text/x-python",
   "name": "python",
   "nbconvert_exporter": "python",
   "pygments_lexer": "ipython3",
   "version": "3.12.3"
  }
 },
 "nbformat": 4,
 "nbformat_minor": 2
}
